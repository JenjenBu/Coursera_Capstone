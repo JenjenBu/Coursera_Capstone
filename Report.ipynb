{
 "cells": [
  {
   "cell_type": "markdown",
   "metadata": {},
   "source": [
    "# Report \n",
    "### Capstone Project - The Battle of Neighborhoods \n",
    "IBM Data Science Course on Coursera\n",
    "\n",
    "The assignment's task is to come up with an idea to leverage Foursquare location data to explore or compare neighborhoods or cities of choice or to come up with a problem that can be solved by using the Foursquare location data. The report consists of 6 parts: In the introduction, the business problem I came up with is described. Afterwards, the data and methodology used to solve the problem are explained. In the results' section, the outcome is presented. Finally, the results are discussed and the report is concluded in the conclusion's section.\n",
    "\n",
    "1. Introduction\n",
    "2. Data\n",
    "3. Methodology\n",
    "4. Results\n",
    "5. Discussion\n",
    "6. Conclusion"
   ]
  },
  {
   "cell_type": "markdown",
   "metadata": {},
   "source": [
    "### 1. Introduction\n",
    "When traveling or moving to a foreign city, people are often interested in exploring the cities nightlife. Though, often it is hard to decide which places to visit as usually there is a high amount of bars, clubs and pubs. This notebook makes it easy to find areas with a high density of nightlife venues in a city someone is interested in. Perfect for pub crawls or nightclub hopping! Thus, a tourist can explore as many different bars, clubs and pubs as possible within a short time and without walking to far from one venue to another. Tourist, travel guides and people who just moved to a new town (e.g. students) might profit from this project."
   ]
  },
  {
   "cell_type": "markdown",
   "metadata": {},
   "source": [
    "### 2. Data\n",
    "The data used for this purpose are geolocation data from Foursquare City-Guide. The following venue categories are searched within a radius of 10km of the city/address of choice:\n",
    "  * Bars\n",
    "  * Cocktail Bars\n",
    "  * Nightclubs\n",
    "  * Pubs\n",
    "  * Irish Pubs\n",
    "  * Hotel Lounges \n",
    "\n",
    "The data is obtained as requests with the Foursquare API and stored in a pandas dataframe for further processing."
   ]
  },
  {
   "cell_type": "markdown",
   "metadata": {},
   "source": [
    "### 3. Methodology\n",
    "The code consists of 4 parts. In a first step, the location is defined. The user is required to type in the name of a city or any address of choice, which he/she wants to explore for nightlife venues. Afterwards, the geocoder package finds the geographical coordinates to this city/address. In the second step, the nightlife venues within a 10km radius around the location are searched with the Foursquare API. To find only nightlife venues, a list of category IDs is defined to only search for the categories listed in the section _2. Data_. An algorithm loops throug the categories and sends a request to Foursquare. The results are appended to a dataframe called _df_night_. In the third step, the data in _df_night_ is normalized and clustered with the density based clustering algorithm DBSCAN from sklearn.cluster. The clustering is based on the geographical coordinates latitude and longitude. This results in each venue being assigned to a cluster. In the last step, the results are visualized on a folium map, that clearly shows the clusters with a high density of nightlife venues in different colors. Clicking on a venue also shows a lable with the name of the venue and its category."
   ]
  },
  {
   "cell_type": "markdown",
   "metadata": {},
   "source": [
    "### 4. Results\n",
    "The notebook was tested by typing in 'Miami Beach' as address. \n",
    "![alt text](https://github.com/adam-p/markdown-here/raw/master/src/common/images/icon48.png \"Logo Title Text 1\")"
   ]
  },
  {
   "cell_type": "code",
   "execution_count": null,
   "metadata": {},
   "outputs": [],
   "source": []
  }
 ],
 "metadata": {
  "kernelspec": {
   "display_name": "Python 3",
   "language": "python",
   "name": "python3"
  },
  "language_info": {
   "codemirror_mode": {
    "name": "ipython",
    "version": 3
   },
   "file_extension": ".py",
   "mimetype": "text/x-python",
   "name": "python",
   "nbconvert_exporter": "python",
   "pygments_lexer": "ipython3",
   "version": "3.7.4"
  }
 },
 "nbformat": 4,
 "nbformat_minor": 4
}
