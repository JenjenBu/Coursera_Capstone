{
 "cells": [
  {
   "cell_type": "markdown",
   "metadata": {},
   "source": [
    "# Report \n",
    "### Capstone Project - The Battle of Neighborhoods \n",
    "IBM Data Science Course on Coursera\n",
    "\n",
    "The assignment's task is to come up with an idea to leverage Foursquare location data to explore or compare neighborhoods or cities of choice or to come up with a problem that can be solved by using the Foursquare location data. The report consists of 6 parts: In the introduction, the business problem I came up with is described. Afterwards, the data and methodology used to solve the problem are explained. In the results' section, the outcome is presented. Finally, the results are discussed and the report is concluded in the conclusion's section.\n",
    "\n",
    "1. Introduction\n",
    "2. Data\n",
    "3. Methodology\n",
    "4. Results\n",
    "5. Discussion\n",
    "6. Conclusion"
   ]
  },
  {
   "cell_type": "code",
   "execution_count": null,
   "metadata": {},
   "outputs": [],
   "source": []
  },
  {
   "cell_type": "code",
   "execution_count": null,
   "metadata": {},
   "outputs": [],
   "source": []
  }
 ],
 "metadata": {
  "kernelspec": {
   "display_name": "Python 3",
   "language": "python",
   "name": "python3"
  },
  "language_info": {
   "codemirror_mode": {
    "name": "ipython",
    "version": 3
   },
   "file_extension": ".py",
   "mimetype": "text/x-python",
   "name": "python",
   "nbconvert_exporter": "python",
   "pygments_lexer": "ipython3",
   "version": "3.7.4"
  }
 },
 "nbformat": 4,
 "nbformat_minor": 4
}
